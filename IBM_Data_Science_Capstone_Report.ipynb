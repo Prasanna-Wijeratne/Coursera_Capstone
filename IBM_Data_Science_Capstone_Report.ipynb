{
 "cells": [
  {
   "cell_type": "markdown",
   "metadata": {},
   "source": [
    "# Battle of the Neighborhoods - Doha Vs Rest of Qatar\n",
    "**by Prasanna Suresh Wijeratne**  \n",
    "August 2020"
   ]
  },
  {
   "cell_type": "markdown",
   "metadata": {},
   "source": [
    "### 1. Introduction"
   ]
  },
  {
   "cell_type": "markdown",
   "metadata": {},
   "source": [
    "**1.1 Background**  \n",
    "  \n",
    "Qatar is one of the fastest growing economy and a richest GDP per capita in the world [click here for details](https://en.wikipedia.org/wiki/Economy_of_Qatar). Qatar population constitutes a larger portion of Expat workers. \n",
    "  \n",
    "As an expat working in Qatar since 2007, I have chosen to analyse different Neighborhoods in Qatar for the benefit of the residents and mainly aimed at \"*Three Municipalities*\" as follows;\n",
    "  \n",
    "1. Doha (the Capital city)\n",
    "2. Al Rayyan\n",
    "3. Wakrah\n",
    "  \n",
    "Later sections of this Capstone will discuss and explain the above choice *in relation to Qatar's demographics* such as;\n",
    "\n",
    "+ Country's Population\n",
    "+ Population distribution\n",
    "+ Population density and,\n",
    "+ Area\n",
    "\n",
    "Using *location data* this Capstone will provide \"**one to one**\" comparison between the *Three municipalities* so that anyone interested in these data can easily visualise and obtain relevant insights."
   ]
  },
  {
   "cell_type": "markdown",
   "metadata": {},
   "source": [
    "**1.2 Problem**  \n",
    "  \n",
    "  I have been living with my family in Qatar since 2011 and can say having first-hand experience of the living expenditures in the country. Although Qatar's expenses are comparable to the incomes it offers, it is natural for one to try and find ways to optimising the spendings within the country. \n",
    "  \n",
    "  Housing and rents being one of the sky-rocketing essential commodities in Qatar, should one makes the right choice, this is where the huge savings can be made conveniently. However, when you are living with family with growing up kids, aging parents or working spouses this becomes a rather difficult choice hence, the target of this Capstone to answer this particular problem.\n",
    "  \n",
    "  For years *Doha* (Capital) has been the city of choice for families and communities, however as you will see later in this Capstone, In contrast *Doha* being the smallest municipality in Qatar (*~200Sqkm*), holding the majority of the country's population (*~40%*), hence the Demand!. \n",
    "  \n",
    "  Due to this difference resulting a heavy demand in Doha city, house rents in Capital is sky-rocketing compared to other regions of the country. However, with the recent, fast developments in Qatar mostly aiming at \"***FIFA-2022 world cup***\", the entire country's Infrastucture, Services, Highways and roads are improving at an unprecidented speed. \n",
    "  \n",
    "  Therefore it is the right time for one to look for a decent neighborhood with a rich-living and easy access to all services even outside the Capital for **much less**. \n",
    "  \n",
    "  Hence, I found solving this problem through my Capstone is timely and relevant to majority living in Doha."
   ]
  },
  {
   "cell_type": "markdown",
   "metadata": {},
   "source": [
    "**1.3 Interest**  \n",
    "\n",
    "  Interested groups can vary widely between,\n",
    "  + *individuals trying to find decent Neighborhoods meeting their needs for competetive price outside Doha*  \n",
    "  + *Any Investor or Organization trying to capture the market of growing need for Neighborhoods outside Doha*\n",
    "  \n",
    "In any case, it is obvious that plenty of interests lie for everyone living in Qatar to see what conclusions are made from this Capstone."
   ]
  },
  {
   "cell_type": "markdown",
   "metadata": {},
   "source": [
    "### 2. Data"
   ]
  },
  {
   "cell_type": "markdown",
   "metadata": {},
   "source": [
    "**2.1 Data Sources**  \n",
    "\n",
    "I have used *Wikipedia* as my data source for this capstone. More specifically, [this page](https://en.wikipedia.org/wiki/Demographics_of_Qatar) for Qatar's demographic data and [this page](https://en.wikipedia.org/wiki/List_of_cities_in_Qatar) which is the main source for administative divisions of Qatar.  \n",
    "\n",
    "In addition, I have used *Foursquare*  to leverage the location data as intended in the *Coursera* assignment.\n",
    "\n",
    "I had to use *Google Geocoding API* to obtain geographic coordinates within Qatar since, *Nominatim* was not adequate to the task at hand and always returned with inconsistent and missing data."
   ]
  },
  {
   "cell_type": "markdown",
   "metadata": {},
   "source": [
    "**2.2 Data Cleaning**  \n",
    "\n",
    "As you know by now, all of my data comes from Web scraping. These data were combined in to tables with multiple attributes for analysis.  \n",
    "\n",
    "However it is noteworthy, that the data avaialble in *Wikipedia* is not the latest or from the year 2020, instead I have used the information freely available to use. \n",
    "(In fact the attempts to find the latest information from Qatar's government websites turned out to be unsuccesful due to \"*lack of data, inconsistencies with Web data and also due to the language barrier*\".\n",
    "\n",
    "As you will see in subsequent sections, the data retrieved from two main web-pages used in combination to analyse demographic data and therefore to provide insight in my final conclusion.\n",
    "\n",
    "Since the data obtained from *Wikipedia* was straighforward, much of the data used as is. However the \"*Numbers*\" used within the tables were present with *comma(,) for thousand seperator* which needed to be removed and coverted to \"*floats*\" during the \"*Exploratory Analysis of Data*\"."
   ]
  },
  {
   "cell_type": "markdown",
   "metadata": {},
   "source": [
    "**2.3 Feature Selection**  \n",
    "\n",
    "There are **two main tables** used in Capstone, namely;\n",
    "\n",
    "+ Demographic data table\n",
    "+ Administrative division data table\n",
    "\n",
    "The Domographic data table was having *Three key features* namely;\n",
    "\n",
    "1. Municipality\n",
    "2. Pupolation\n",
    "3. Area\n",
    "\n",
    "Which was used mainly to analyse and narrow the comparison down to three key Municipalities. \n",
    "\n",
    "The Administrative division data table was consisting of *Two key features* below;\n",
    "\n",
    "1. City/District\n",
    "2. Municipality\n",
    "\n",
    "After, combining with geographic data from *Google Geocoding API*  the above Administrative division table is further expanded with following *four features*;\n",
    "\n",
    "3. Municipality latitude\n",
    "4. Municipality longitude\n",
    "5. City/District latitude\n",
    "6. City/District longitude\n",
    "\n",
    "The above is converted to *Pandas Data Frame* to combine and obtain location data from *Foursquare API* subsequently categorized and used for k-means algorithm for clustering using the most frequent venues in each Neighborhood.  \n",
    "\n",
    "\n",
    "<h5>\n",
    "<center>Table 1. Dataframes vs Features</center>    </h5>\n",
    "\n",
    "|Description     |Feature(s) included within the table       |Remarks|\n",
    "|:----------|:----------------|:--------------------------|\n",
    "|Demographic data|Municipality,Pupolation,Area|used for Exploratory analysis|\n",
    "|Administrative division data|City/District,Municipality,Latitudes, Longitudes|used in conjunction of Location data for grouping|\n",
    "\n"
   ]
  },
  {
   "cell_type": "markdown",
   "metadata": {},
   "source": [
    "### 3. Exploratory Data Analysis"
   ]
  },
  {
   "cell_type": "markdown",
   "metadata": {},
   "source": [
    "**3.1 Popluation Analysis (Country based)**\n",
    "\n",
    "As mentioned in the Introduction, Qatar population consist of a larger portion of Expat workers. It is indeed a significant percentage compared to the locals.\n",
    "\n",
    "As evident in the following Pie-chart, Indians makes **28.6%** of the Qatar's population and it is nearly twice as much as local Qatari. Thereafter following **14.5%** of Qatari population Bangladesh, Philippines, Egypt, Sri Lanka and Pakistan make **44.4%** of the population.\n",
    "\n",
    "The remaining **22.5%** are made of various other Nationalities from Arab, Asian and European countries etc."
   ]
  },
  {
   "cell_type": "markdown",
   "metadata": {},
   "source": [
    "![](img\\fig-1_popcharts.jpeg)"
   ]
  },
  {
   "cell_type": "markdown",
   "metadata": {},
   "source": [
    "**3.1 Popluation Analysis (Location based)**\n",
    "\n",
    "Looking at the following Bar-chart it is evident that despite [*Doha*](https://en.wikipedia.org/wiki/Doha) (the Capital) being the smallest City in Qatar with only **1.7%** of the land area corresponding to *~200Sqkm* still  holds most of the population in the country with staggering **39.8%** (*nearly~1.0M*) in the Capital.  \n",
    "\n",
    "Analysing further it is observant that [*Al Rayyan*](https://en.wikipedia.org/wiki/Al_Rayyan) and [*Al Wakrah*](https://en.wikipedia.org/wiki/Al_Wakrah) municipalities holds another 1.0M populatation together. However, in contrast to Doha these two cities are bigger and nearly *~2500Sqkm* each and together with more than **40%** of the entire the land.\n",
    "\n",
    "Coming at fourth and final place for the scope of this Capstone is [*Al Khor city*](https://en.wikipedia.org/wiki/Al_Khor) with nearly **8%** of the population within a  *1500Sqkm* area."
   ]
  },
  {
   "cell_type": "markdown",
   "metadata": {},
   "source": [
    "![](img\\fig-2_areavspop.jpeg)"
   ]
  },
  {
   "cell_type": "markdown",
   "metadata": {},
   "source": [
    "**3.2 Qatar Neighborhood on Map**\n",
    "\n",
    "Using Google Geocode API, location data of all the Municpals and Neighborhoods in Qatar is collected (*Number of actual results vary based on the consistency of API response time to time*).\n",
    "\n",
    "Using these Geocordinate data and Folium, following Map has been created to easily understand the distribution of Qatar's neighborhoods, in fact revealing evidence evidence that despite Doha being the smallest city in Qatar, once again the majority of the Neighborhoods with population are concentrated within or surrounding the Capital."
   ]
  },
  {
   "cell_type": "code",
   "execution_count": 1,
   "metadata": {},
   "outputs": [
    {
     "data": {
      "text/html": [
       "<script>\n",
       "code_show=true; \n",
       "function code_toggle() {\n",
       "    if (code_show){\n",
       "        $('div.cell.code_cell.rendered.selected div.input').hide();\n",
       "    } else {\n",
       "        $('div.cell.code_cell.rendered.selected div.input').show();\n",
       "    }\n",
       "    code_show = !code_show\n",
       "} \n",
       "$( document ).ready(code_toggle);\n",
       "</script>\n",
       "To show/hide this cell's raw code input, click <a href=\"javascript:code_toggle()\">here</a>."
      ],
      "text/plain": [
       "<IPython.core.display.HTML object>"
      ]
     },
     "metadata": {},
     "output_type": "display_data"
    },
    {
     "data": {
      "text/html": [
       "\n",
       "        <iframe\n",
       "            width=\"1000\"\n",
       "            height=\"600\"\n",
       "            src=\"maps\\map1_qatar_map.html\"\n",
       "            frameborder=\"0\"\n",
       "            allowfullscreen\n",
       "        ></iframe>\n",
       "        "
      ],
      "text/plain": [
       "<IPython.lib.display.IFrame at 0x6160118>"
      ]
     },
     "execution_count": 1,
     "metadata": {},
     "output_type": "execute_result"
    }
   ],
   "source": [
    "from IPython.display import HTML\n",
    "from IPython.display import display\n",
    "\n",
    "# Taken from https://stackoverflow.com/questions/31517194/how-to-hide-one-specific-cell-input-or-output-in-ipython-notebook\n",
    "tag = HTML('''<script>\n",
    "code_show=true; \n",
    "function code_toggle() {\n",
    "    if (code_show){\n",
    "        $('div.cell.code_cell.rendered.selected div.input').hide();\n",
    "    } else {\n",
    "        $('div.cell.code_cell.rendered.selected div.input').show();\n",
    "    }\n",
    "    code_show = !code_show\n",
    "} \n",
    "$( document ).ready(code_toggle);\n",
    "</script>\n",
    "To show/hide this cell's raw code input, click <a href=\"javascript:code_toggle()\">here</a>.''')\n",
    "display(tag)\n",
    "\n",
    "############### Write code below ##################\n",
    "\n",
    "from IPython.display import IFrame\n",
    "\n",
    "IFrame(src='maps\\map1_qatar_map.html', width=1000, height=600)"
   ]
  },
  {
   "cell_type": "markdown",
   "metadata": {},
   "source": [
    "**3.3 Gathering Neighborhoods-intel using Foursquare**\n",
    "\n",
    "Using Foursquare location data, near by Venue data is collected and summerized as follows."
   ]
  },
  {
   "cell_type": "markdown",
   "metadata": {},
   "source": [
    "![](img\\fig-3_TotalVsResultedNeigh.jpeg)"
   ]
  },
  {
   "cell_type": "markdown",
   "metadata": {},
   "source": [
    "+ Foursquare results returned with venue data for **105** Neighborhoods in Qatar.\n",
    "+ **43** Neighborhoods with no Venue data is removed from this Capstone after identifying that these are non-populated and desert cities in Qatar.\n",
    "+ Average number of near by venues per Neighborhood in the resultant dataset is 11.\n",
    "+ Median of near by venues per Neighborhood in the resultant dataset is 5.\n",
    "+ Mode of near by venues per Neighborhood in the resultant dataset is 4.\n",
    "\n",
    "Hence, the following Pie-Charts to visualize the reason to pick Mode to further filter-out the Neighborhoods with inadequate location results."
   ]
  },
  {
   "cell_type": "markdown",
   "metadata": {},
   "source": [
    "![](img\\fig-4_Test.jpeg)"
   ]
  },
  {
   "cell_type": "markdown",
   "metadata": {},
   "source": [
    "**3.4 Mapping the Neighborhoods chosen for the clustering based on the above analysis**\n",
    "\n",
    "Due to the fact that Isolated and Desert cities further from Doha has very little to no location data from Foursquare search, the following Map is further reduced to Neighborhoods that are closer to the heart of Qatar."
   ]
  },
  {
   "cell_type": "code",
   "execution_count": 2,
   "metadata": {
    "scrolled": false
   },
   "outputs": [
    {
     "data": {
      "text/html": [
       "<script>\n",
       "code_show=true; \n",
       "function code_toggle() {\n",
       "    if (code_show){\n",
       "        $('div.cell.code_cell.rendered.selected div.input').hide();\n",
       "    } else {\n",
       "        $('div.cell.code_cell.rendered.selected div.input').show();\n",
       "    }\n",
       "    code_show = !code_show\n",
       "} \n",
       "$( document ).ready(code_toggle);\n",
       "</script>\n",
       "To show/hide this cell's raw code input, click <a href=\"javascript:code_toggle()\">here</a>."
      ],
      "text/plain": [
       "<IPython.core.display.HTML object>"
      ]
     },
     "metadata": {},
     "output_type": "display_data"
    },
    {
     "data": {
      "text/html": [
       "\n",
       "        <iframe\n",
       "            width=\"1000\"\n",
       "            height=\"600\"\n",
       "            src=\"maps\\map2_qatar_chosen_map.html\"\n",
       "            frameborder=\"0\"\n",
       "            allowfullscreen\n",
       "        ></iframe>\n",
       "        "
      ],
      "text/plain": [
       "<IPython.lib.display.IFrame at 0x6158bc8>"
      ]
     },
     "execution_count": 2,
     "metadata": {},
     "output_type": "execute_result"
    }
   ],
   "source": [
    "from IPython.display import HTML\n",
    "from IPython.display import display\n",
    "\n",
    "# Taken from https://stackoverflow.com/questions/31517194/how-to-hide-one-specific-cell-input-or-output-in-ipython-notebook\n",
    "tag = HTML('''<script>\n",
    "code_show=true; \n",
    "function code_toggle() {\n",
    "    if (code_show){\n",
    "        $('div.cell.code_cell.rendered.selected div.input').hide();\n",
    "    } else {\n",
    "        $('div.cell.code_cell.rendered.selected div.input').show();\n",
    "    }\n",
    "    code_show = !code_show\n",
    "} \n",
    "$( document ).ready(code_toggle);\n",
    "</script>\n",
    "To show/hide this cell's raw code input, click <a href=\"javascript:code_toggle()\">here</a>.''')\n",
    "display(tag)\n",
    "\n",
    "############### Write code below ##################\n",
    "\n",
    "from IPython.display import IFrame\n",
    "\n",
    "IFrame(src='maps\\map2_qatar_chosen_map.html', width=1000, height=600)"
   ]
  },
  {
   "cell_type": "markdown",
   "metadata": {},
   "source": [
    "### 4. Results from Neighborhood Clustering"
   ]
  },
  {
   "cell_type": "markdown",
   "metadata": {},
   "source": [
    "**4.1 Clustering Neighborhoods - for residents**\n",
    "\n",
    "Using k-means clustering **(*k=10*)** and Chosing (*the Top 10*) Venues for each chosen Neighborhood, the following Map is plotted and intended to provide comparison for residents with wider range of Neighborhood categories."
   ]
  },
  {
   "cell_type": "code",
   "execution_count": 3,
   "metadata": {},
   "outputs": [
    {
     "data": {
      "text/html": [
       "<script>\n",
       "code_show=true; \n",
       "function code_toggle() {\n",
       "    if (code_show){\n",
       "        $('div.cell.code_cell.rendered.selected div.input').hide();\n",
       "    } else {\n",
       "        $('div.cell.code_cell.rendered.selected div.input').show();\n",
       "    }\n",
       "    code_show = !code_show\n",
       "} \n",
       "$( document ).ready(code_toggle);\n",
       "</script>\n",
       "To show/hide this cell's raw code input, click <a href=\"javascript:code_toggle()\">here</a>."
      ],
      "text/plain": [
       "<IPython.core.display.HTML object>"
      ]
     },
     "metadata": {},
     "output_type": "display_data"
    },
    {
     "data": {
      "text/html": [
       "\n",
       "        <iframe\n",
       "            width=\"1000\"\n",
       "            height=\"600\"\n",
       "            src=\"maps\\map3_map_clusters.html\"\n",
       "            frameborder=\"0\"\n",
       "            allowfullscreen\n",
       "        ></iframe>\n",
       "        "
      ],
      "text/plain": [
       "<IPython.lib.display.IFrame at 0x614ce68>"
      ]
     },
     "execution_count": 3,
     "metadata": {},
     "output_type": "execute_result"
    }
   ],
   "source": [
    "from IPython.display import HTML\n",
    "from IPython.display import display\n",
    "\n",
    "# Taken from https://stackoverflow.com/questions/31517194/how-to-hide-one-specific-cell-input-or-output-in-ipython-notebook\n",
    "tag = HTML('''<script>\n",
    "code_show=true; \n",
    "function code_toggle() {\n",
    "    if (code_show){\n",
    "        $('div.cell.code_cell.rendered.selected div.input').hide();\n",
    "    } else {\n",
    "        $('div.cell.code_cell.rendered.selected div.input').show();\n",
    "    }\n",
    "    code_show = !code_show\n",
    "} \n",
    "$( document ).ready(code_toggle);\n",
    "</script>\n",
    "To show/hide this cell's raw code input, click <a href=\"javascript:code_toggle()\">here</a>.''')\n",
    "display(tag)\n",
    "\n",
    "############### Write code below ##################\n",
    "\n",
    "from IPython.display import IFrame\n",
    "\n",
    "IFrame(src='maps\\map3_map_clusters.html', width=1000, height=600)"
   ]
  },
  {
   "cell_type": "markdown",
   "metadata": {},
   "source": [
    "**4.2 Clustering Neighborhoods - for Investors**\n",
    "\n",
    "Using k-means clustering **(*k=3*)** and Chosing (*the Top 10*) Venues for each chosen Neighborhood, the following Map is plotted and intended to provide comparison for Companies and Investors to understand where the fundamental similarities lie.\n",
    "\n",
    "When used with the Map plotted for residents, this provides a great deal of insight to whoever wants to open a business any of these Neighborhoods."
   ]
  },
  {
   "cell_type": "code",
   "execution_count": 4,
   "metadata": {},
   "outputs": [
    {
     "data": {
      "text/html": [
       "<script>\n",
       "code_show=true; \n",
       "function code_toggle() {\n",
       "    if (code_show){\n",
       "        $('div.cell.code_cell.rendered.selected div.input').hide();\n",
       "    } else {\n",
       "        $('div.cell.code_cell.rendered.selected div.input').show();\n",
       "    }\n",
       "    code_show = !code_show\n",
       "} \n",
       "$( document ).ready(code_toggle);\n",
       "</script>\n",
       "To show/hide this cell's raw code input, click <a href=\"javascript:code_toggle()\">here</a>."
      ],
      "text/plain": [
       "<IPython.core.display.HTML object>"
      ]
     },
     "metadata": {},
     "output_type": "display_data"
    },
    {
     "data": {
      "text/html": [
       "\n",
       "        <iframe\n",
       "            width=\"1000\"\n",
       "            height=\"600\"\n",
       "            src=\"maps\\map4_map_clusters_alternate.html\"\n",
       "            frameborder=\"0\"\n",
       "            allowfullscreen\n",
       "        ></iframe>\n",
       "        "
      ],
      "text/plain": [
       "<IPython.lib.display.IFrame at 0x6160160>"
      ]
     },
     "execution_count": 4,
     "metadata": {},
     "output_type": "execute_result"
    }
   ],
   "source": [
    "from IPython.display import HTML\n",
    "from IPython.display import display\n",
    "\n",
    "# Taken from https://stackoverflow.com/questions/31517194/how-to-hide-one-specific-cell-input-or-output-in-ipython-notebook\n",
    "tag = HTML('''<script>\n",
    "code_show=true; \n",
    "function code_toggle() {\n",
    "    if (code_show){\n",
    "        $('div.cell.code_cell.rendered.selected div.input').hide();\n",
    "    } else {\n",
    "        $('div.cell.code_cell.rendered.selected div.input').show();\n",
    "    }\n",
    "    code_show = !code_show\n",
    "} \n",
    "$( document ).ready(code_toggle);\n",
    "</script>\n",
    "To show/hide this cell's raw code input, click <a href=\"javascript:code_toggle()\">here</a>.''')\n",
    "display(tag)\n",
    "\n",
    "############### Write code below ##################\n",
    "\n",
    "from IPython.display import IFrame\n",
    "\n",
    "IFrame(src='maps\\map4_map_clusters_alternate.html', width=1000, height=600)\n"
   ]
  },
  {
   "cell_type": "markdown",
   "metadata": {},
   "source": [
    "### 5. Discussion"
   ]
  },
  {
   "cell_type": "markdown",
   "metadata": {},
   "source": [
    "**5.1 Understanding Doha**\n",
    "\n",
    "in order to compare and understand Neighborhood alternatives to Doha, we must first understand the main types of Neighborhood clusters in the Capital.\n",
    "\n",
    "Following Table provide the result summary for easy understanding,"
   ]
  },
  {
   "cell_type": "markdown",
   "metadata": {},
   "source": [
    "<h5>\n",
    "<center>Table 2. Doha Clusters</center>    </h5>\n",
    "\n",
    "|Cluster_Label     |Neighborhood_count      |Remarks|\n",
    "|:----------:|:----------------:|:--------------------------|\n",
    "|2|\t19||\n",
    "4|\t12||\n",
    "8|\t6||\n",
    "1|\t3||\n",
    "6|\t1||\n",
    "7|\t1||\n"
   ]
  },
  {
   "cell_type": "markdown",
   "metadata": {},
   "source": [
    "Hence, it  is clear from the ***Table 2*** above that Doha Neighborhoods are clustered in to *Six(**6**)* different categories based on the *Top 10 near by Venue* types.\n",
    "\n",
    "Further, it can be narrowed down to *Three(**3**)* most common types namely **Cluster labels 2, 4 and 8**"
   ]
  },
  {
   "cell_type": "markdown",
   "metadata": {},
   "source": [
    "**5.1 Charatchterizing the Cluster labels**\n",
    "\n",
    "It is important that anyone refering to this Capstone understand what these labels mean. In order to relate label numbers to Charachteristics of the Neighborhood, **Ten(10)** most frequent venue categories have been filtered out using All the neighborhoods that comes under a specific Cluster"
   ]
  },
  {
   "cell_type": "markdown",
   "metadata": {},
   "source": [
    "<h5>\n",
    "<center>Table 4. Characterizing the Clusters</center>    </h5>\n",
    "\n",
    "|Cluster_Label     |Summery of Venue Categories      |Brief on Cluster Charachteristics|\n",
    "|:----------:|:----------------|:--------------------------|\n",
    "|2|Range of Café & Restaurants, Hotels, Grocery Store, Park.|Neighborhood for Bachelors|\n",
    "|4|Number of Hotels, Range of Restaurants, Pizza place, Jewelry Store|Neighborhood for travellers|\n",
    "|8|Range of Café & Restaurants, Hotels, Convenience Stores & Department Stores, Pool Hall, Palace|Neighborhood for Families|"
   ]
  },
  {
   "cell_type": "markdown",
   "metadata": {},
   "source": [
    "Hence, from above table it is easier to draw insights in to the type of Neighborhood refered by the Cluster numbering. Also one might determine his or her interest based on the flavor of the Venues it has to offer."
   ]
  },
  {
   "cell_type": "markdown",
   "metadata": {},
   "source": [
    "### 6. Conclusion"
   ]
  },
  {
   "cell_type": "markdown",
   "metadata": {},
   "source": [
    "In conclusion I would like to summarize the key observations made in this Capstone as follows;"
   ]
  },
  {
   "cell_type": "markdown",
   "metadata": {},
   "source": [
    "+ Doha City is unique in many ways and since it holds the most of the Qatar's population although it is the smallest city of the Country.\n",
    "\n",
    "+ In addition, Doha municpality holds the most Neighborhoods and these Neighborhoods are falling in to Three**(3)** Clusters when k-means clustering algorythm is applied.\n",
    "\n",
    "+ However, Three (**3**) other Municpalities offer Seven(**7**) Neighborhoods simillar to Doha that is not only larger in Area but also with less rents and expenses compared to Doha.\n",
    "\n",
    "And, there neighborhoods falls in each Municipal as follows:"
   ]
  },
  {
   "cell_type": "markdown",
   "metadata": {},
   "source": [
    "![](img\\Dataframe.jpg)"
   ]
  },
  {
   "cell_type": "markdown",
   "metadata": {},
   "source": [
    "And should anyone is interested, following are the Neighborhoods simillar to Doha."
   ]
  },
  {
   "cell_type": "markdown",
   "metadata": {},
   "source": [
    "![](img\\Dataframe_neighborhoods.jpg)"
   ]
  },
  {
   "cell_type": "markdown",
   "metadata": {},
   "source": [
    "### 7. Future"
   ]
  },
  {
   "cell_type": "markdown",
   "metadata": {},
   "source": [
    "It is proominant in throughout the Capstone during various Analysis that Al Rayyan has the **Most Potential** to become the best Alternative City for Doha.\n",
    "\n",
    "Wakra and Al Khor being closest to the two (**2**) major Oil and Gas industries in the country, development in in these Municpalities will draw more population directly involved or service in these Industies.\n",
    "\n",
    "It is also inevitable that Doha will soon become over populated and overly congested. Hence, it is an ideal opportunity for investors to look at simillar studies to this Capstone and make right choices when establishing their next business."
   ]
  }
 ],
 "metadata": {
  "kernelspec": {
   "display_name": "Python 3",
   "language": "python",
   "name": "python3"
  },
  "language_info": {
   "codemirror_mode": {
    "name": "ipython",
    "version": 3
   },
   "file_extension": ".py",
   "mimetype": "text/x-python",
   "name": "python",
   "nbconvert_exporter": "python",
   "pygments_lexer": "ipython3",
   "version": "3.8.1"
  }
 },
 "nbformat": 4,
 "nbformat_minor": 4
}
