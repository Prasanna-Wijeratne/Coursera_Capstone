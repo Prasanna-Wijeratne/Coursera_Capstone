{
 "cells": [
  {
   "cell_type": "markdown",
   "metadata": {},
   "source": [
    "# Battle of the Neighborhoods - Qatar\n",
    "**by Prasanna Suresh Wijeratne**  \n",
    "July 2020"
   ]
  },
  {
   "cell_type": "markdown",
   "metadata": {},
   "source": [
    "### 1. Introduction"
   ]
  },
  {
   "cell_type": "markdown",
   "metadata": {},
   "source": [
    "**1.1 Background**  \n",
    "  \n",
    "Qatar is one of the fastest growing economy and a richest GDP per capita in the world [click here for details](https://en.wikipedia.org/wiki/Economy_of_Qatar). Qatar population constitutes a larger portion of Expat workers. \n",
    "  \n",
    "As an expat working in Qatar since 2007, I have chosen to analyse different Neighborhoods in Qatar for the benefit of the residents and mainly aimed at \"*Three Municipalities*\" as follows;\n",
    "  \n",
    "1. Doha (the Capital city)\n",
    "2. Al Rayyan\n",
    "3. Wakrah\n",
    "  \n",
    "Later sections of this Capstone will discuss and explain the above choice *in relation to Qatar's demographics* such as;\n",
    "\n",
    "+ Country's Population\n",
    "+ Population distribution\n",
    "+ Population desity and,\n",
    "+ Area\n",
    "\n",
    "Using *location data* this Capstone will provide \"**one to one**\" comparison between the *Three municipalities* so that anyone interested in these data can easily visualise and obtain relevant insights."
   ]
  },
  {
   "cell_type": "markdown",
   "metadata": {},
   "source": [
    "**1.2 Problem**  \n",
    "  \n",
    "  I have been living with my family in Qatar since 2011 and can say having first-hand experience of the living expenditures in the country. Although Qatar's expenses are comparable to the incomes it offers, it is natural for one to try and find ways to optimising the spendings within the country. \n",
    "  \n",
    "  Housing and rents being one of the main sky-rocketing commodities in Qatar, should one makes the right choice, this is where the huge savings can be made conveniently. However, when you are living with family with growing up kids, aging parents or working spouses this becomes a rather difficult choice hence, the target of this Capstone to answer this particular problem.\n",
    "  \n",
    "  For years *Doha* (Capital) has been the city of choice for families and communities, however as you will see later in this Capstone, In contrast *Doha* being the smallest municipality in Qatar (*~200Sqkm*), holding the majority of the country's population (*~40%*). \n",
    "  \n",
    "  Due to this difference resulting a heavy demand in Doha city, house rents in Capital is sky-rocketing compared to other regions of the country. However, with the recent, fast developments in Qatar mostly aiming at \"***FIFA-2022 world cup***\", the entire country's Infrastucture, Services, Highways and roads are improving at an unprecidented speed. \n",
    "  \n",
    "  Therefore it is the right time for one to look for a decent neighborhood with a rich-living and easy access to all services even outside the Capital for **much less**. \n",
    "  \n",
    "  Hence, I found solving this problem through my Capstone is timely and relevant to majority living in Doha."
   ]
  },
  {
   "cell_type": "markdown",
   "metadata": {},
   "source": [
    "**1.3 Interest**  \n",
    "\n",
    "  Interested groups can vary widely between,\n",
    "  + *individuals who try to find decent Neighborhood meeting their needs for competetive price outside Doha* to \n",
    "  + *Any Investor or Organization trying to capture the market of growing need for Neighborhoods outside Doha*\n",
    "  \n",
    "In any case, it is obvious that plenty of interests lie for everyone living in Qatar to see what conclusions are made from this Capstone."
   ]
  },
  {
   "cell_type": "markdown",
   "metadata": {},
   "source": [
    "### 2. Data"
   ]
  },
  {
   "cell_type": "markdown",
   "metadata": {},
   "source": [
    "**2.1 Data Sources**  \n",
    "\n",
    "I have used *Wikipedia* as my data source for this capstone. More specifically, [this page](https://en.wikipedia.org/wiki/Demographics_of_Qatar) for Qatar's demographic data and [this page](https://en.wikipedia.org/wiki/List_of_cities_in_Qatar) which is the main source for administative divisions of Qatar.  \n",
    "\n",
    "In addition, I have used *Foursquare*  to leverage the location data as intended in the *Coursera* assignment.\n",
    "\n",
    "I had to use *Google Geocoding API* to obtain geographic coordinates within Qatar since, *Nominatim* was not adequate to the task at hand and always returned with inconsistent and missing data."
   ]
  },
  {
   "cell_type": "markdown",
   "metadata": {},
   "source": [
    "**2.2 Data Cleaning**  \n",
    "\n",
    "As you know by now, all of my data comes from Web scraping. These data were combined in to tables with multiple attributes for analysis.  \n",
    "\n",
    "However it is noteworthy, that the data avaialble in *Wikipedia* is not the latest or from the year 2020, instead I have used the information freely available to use. \n",
    "(In fact the attempts to find the latest information from Qatar's government websites turned out to be unsuccesful due to \"*lack of data, inconsistencies with Web data and also due to the language barrier*\".\n",
    "\n",
    "As you will see in subsequent sections, the data retrieved from two main web-pages used in combination to analyse demographic data and therefore to provide insight in my final conclusion.\n",
    "\n",
    "Since the data obtained from *Wikipedia* was straighforward, much of the data used as is. However the \"*Numbers*\" used within the tables were present with *comma(,) for thousand seperator* which needed to be removed and coverted to \"*floats*\" during the \"*Exploratory Analysis of Data*\"."
   ]
  },
  {
   "cell_type": "markdown",
   "metadata": {},
   "source": [
    "**2.3 Feature Selection**  \n",
    "\n",
    "There are **two main tables** used in Capstone, namely;\n",
    "\n",
    "+ Demographic data table\n",
    "+ Administrative division data table\n",
    "\n",
    "The Domographic data table was having *Three key features* namely;\n",
    "\n",
    "1. Municipality\n",
    "2. Pupolation\n",
    "3. Area\n",
    "\n",
    "Which was used mainly to analyse and narrow the comparison down to three key Municipalities. \n",
    "\n",
    "The Administrative division data table was consisting of *Two key features* below;\n",
    "\n",
    "1. City/District\n",
    "2. Municipality\n",
    "\n",
    "After, combining with geographic data from *Google Geocoding API*  the above Administrative division table is further expanded with following *four features*;\n",
    "\n",
    "3. Municipality latitude\n",
    "4. Municipality longitude\n",
    "5. City/District latitude\n",
    "6. City/District longitude\n",
    "\n",
    "The above is converted to *Pandas Data Frame* to combine and obtain location data from *Foursquare API* subsequently categorized and used for k-means algorithm for categorization using the most frequent venues in each Neighborhood.  \n",
    "\n",
    "\n",
    "<h5>\n",
    "<center>Table 1. Table vs Features</center>    </h5>\n",
    "\n",
    "|Description     |Feature(s) included within the table       |Remarks|\n",
    "|:----------|:----------------|:--------------------------|\n",
    "|Demographic data|Municipality,Pupolation,Area|used for Exploratory analysis|\n",
    "|Administrative division data|City/District,Municipality,Latitudes, Longitude|used in conjunction of Location data for grouping|\n",
    "\n"
   ]
  },
  {
   "cell_type": "code",
   "execution_count": null,
   "metadata": {},
   "outputs": [],
   "source": []
  }
 ],
 "metadata": {
  "kernelspec": {
   "display_name": "Python 3",
   "language": "python",
   "name": "python3"
  },
  "language_info": {
   "codemirror_mode": {
    "name": "ipython",
    "version": 3
   },
   "file_extension": ".py",
   "mimetype": "text/x-python",
   "name": "python",
   "nbconvert_exporter": "python",
   "pygments_lexer": "ipython3",
   "version": "3.8.1"
  }
 },
 "nbformat": 4,
 "nbformat_minor": 4
}
